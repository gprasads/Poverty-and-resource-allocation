{
  "nbformat": 4,
  "nbformat_minor": 0,
  "metadata": {
    "colab": {
      "name": "CSE545_project.ipynb",
      "provenance": [],
      "collapsed_sections": []
    },
    "kernelspec": {
      "name": "python3",
      "display_name": "Python 3"
    }
  },
  "cells": [
    {
      "cell_type": "code",
      "metadata": {
        "id": "OO-sO_7Ju82d",
        "colab_type": "code",
        "outputId": "f8ae9145-cd65-4f89-d2ca-478c49a6f77f",
        "colab": {
          "base_uri": "https://localhost:8080/",
          "height": 212
        }
      },
      "source": [
        "!apt-get install openjdk-8-jdk-headless -qq > /dev/null\n",
        "!wget  http://ftp.wayne.edu/apache/spark/spark-2.4.5/spark-2.4.5-bin-hadoop2.7.tgz\n",
        "!tar xf spark-2.4.5-bin-hadoop2.7.tgz\n",
        "!pip install -q findspark\n",
        "\n",
        "import os\n",
        "os.environ[\"JAVA_HOME\"] = \"/usr/lib/jvm/java-8-openjdk-amd64\"\n",
        "os.environ[\"SPARK_HOME\"] = \"/content/spark-2.4.5-bin-hadoop2.7\"\n",
        "\n",
        "import findspark\n",
        "findspark.init(\"/content/spark-2.4.5-bin-hadoop2.7\")\n",
        "from pyspark.sql import SparkSession\n",
        "spark = SparkSession.builder.master(\"local[*]\").getOrCreate()\n",
        "\n",
        "from pyspark.ml.feature import VectorAssembler\n",
        "from pyspark.ml.regression import LinearRegression\n",
        "\n",
        "sc = spark.sparkContext"
      ],
      "execution_count": 0,
      "outputs": [
        {
          "output_type": "stream",
          "text": [
            "--2020-05-18 06:50:21--  http://ftp.wayne.edu/apache/spark/spark-2.4.5/spark-2.4.5-bin-hadoop2.7.tgz\n",
            "Resolving ftp.wayne.edu (ftp.wayne.edu)... 141.217.0.199\n",
            "Connecting to ftp.wayne.edu (ftp.wayne.edu)|141.217.0.199|:80... connected.\n",
            "HTTP request sent, awaiting response... 200 OK\n",
            "Length: 232530699 (222M) [application/x-gzip]\n",
            "Saving to: ‘spark-2.4.5-bin-hadoop2.7.tgz’\n",
            "\n",
            "spark-2.4.5-bin-had 100%[===================>] 221.76M  33.0MB/s    in 7.9s    \n",
            "\n",
            "2020-05-18 06:50:29 (27.9 MB/s) - ‘spark-2.4.5-bin-hadoop2.7.tgz’ saved [232530699/232530699]\n",
            "\n"
          ],
          "name": "stdout"
        }
      ]
    },
    {
      "cell_type": "code",
      "metadata": {
        "id": "nNuWow3VwBb4",
        "colab_type": "code",
        "colab": {}
      },
      "source": [
        "iprdd=sc.textFile('/content/drive/My Drive/CSE545_Project/Education.csv')"
      ],
      "execution_count": 0,
      "outputs": []
    },
    {
      "cell_type": "code",
      "metadata": {
        "id": "vdSjuyGC0Yl4",
        "colab_type": "code",
        "colab": {}
      },
      "source": [
        "def customAppend(str,myList):\n",
        "    if len(str) > 0:\n",
        "        myList.append(str)\n",
        "    return myList\n",
        "\n",
        "def customSplit(str, delim, ignoreBegin, ignoreEnd):\n",
        "    myList = []\n",
        "    currString = ''\n",
        "    isIgnore = False\n",
        "    isIgnoreJustEnded = False\n",
        "    for i in str:\n",
        "        if i == ignoreBegin and not isIgnore:\n",
        "            customAppend(currString, myList)\n",
        "            currString = ignoreBegin\n",
        "            isIgnore = True\n",
        "        elif i == ignoreEnd and isIgnore:\n",
        "            currString = currString + ignoreEnd\n",
        "            myList.append(currString)\n",
        "            currString = ''\n",
        "            isIgnore = False\n",
        "            isIgnoreJustEnded = True\n",
        "        elif isIgnore:\n",
        "            currString = currString + i\n",
        "        elif i == delim:\n",
        "            # customAppend(currString, myList)\n",
        "            if isIgnoreJustEnded:\n",
        "                isIgnoreJustEnded = False\n",
        "            else:\n",
        "                myList.append(currString)\n",
        "            currString = ''\n",
        "        else:\n",
        "            currString = currString + i\n",
        "    customAppend(currString, myList)\n",
        "    return myList"
      ],
      "execution_count": 0,
      "outputs": []
    },
    {
      "cell_type": "code",
      "metadata": {
        "id": "57hsogoY4c2M",
        "colab_type": "code",
        "colab": {}
      },
      "source": [
        "def intConv(x):\n",
        "  op=[]\n",
        "  try:\n",
        "    for i in x[1]:\n",
        "      if '\"' not in i:\n",
        "        op.append(float(i))\n",
        "      else:\n",
        "        op.append(int(i[1:-1].replace(',','')))\n",
        "  except:\n",
        "    op=[]\n",
        "  return (x[0],op)"
      ],
      "execution_count": 0,
      "outputs": []
    },
    {
      "cell_type": "markdown",
      "metadata": {
        "id": "2i_XmStTje6j",
        "colab_type": "text"
      },
      "source": [
        ""
      ]
    },
    {
      "cell_type": "code",
      "metadata": {
        "id": "2GPohnc4wokQ",
        "colab_type": "code",
        "colab": {}
      },
      "source": [
        "rdd1=iprdd.filter(lambda x: 'F' not in x[0]).map(lambda x:customSplit(x,',','\\\"','\\\"')).map(lambda x: (int(x[0]),x[-4:])).filter(lambda x: x[0]!=0)"
      ],
      "execution_count": 0,
      "outputs": []
    },
    {
      "cell_type": "code",
      "metadata": {
        "id": "VaOfsUNw4Wgq",
        "colab_type": "code",
        "colab": {}
      },
      "source": [
        "rdd1.map(lambda x: intConv(x)).filter(lambda x: len(x[1])>2).map(lambda x:(x[0],(1,x[1]))).saveAsTextFile('/content/drive/My Drive/CSE545_Project/OP/edu')"
      ],
      "execution_count": 0,
      "outputs": []
    },
    {
      "cell_type": "code",
      "metadata": {
        "id": "qgYNZb5y8V9l",
        "colab_type": "code",
        "colab": {}
      },
      "source": [
        "Uiprdd=sc.textFile('/content/drive/My Drive/CSE545_Project/Unemployment.csv')"
      ],
      "execution_count": 0,
      "outputs": []
    },
    {
      "cell_type": "code",
      "metadata": {
        "id": "vjb-etBo8cWr",
        "colab_type": "code",
        "colab": {}
      },
      "source": [
        "Urdd1=Uiprdd.filter(lambda x: 'F' not in x[0]).map(lambda x:customSplit(x,',','\\\"','\\\"')).map(lambda x: (int(x[0]),x[-3:-1])).filter(lambda x: x[0]!=0)"
      ],
      "execution_count": 0,
      "outputs": []
    },
    {
      "cell_type": "code",
      "metadata": {
        "id": "77P9bf2u9w9b",
        "colab_type": "code",
        "colab": {}
      },
      "source": [
        "Urdd1.map(lambda x: intConv(x)).filter(lambda x: len(x[1])==2).map(lambda x:(x[0],(2,x[1]))).saveAsTextFile('/content/drive/My Drive/CSE545_Project/OP/unemp')"
      ],
      "execution_count": 0,
      "outputs": []
    },
    {
      "cell_type": "code",
      "metadata": {
        "id": "nPQLq3in5-Ot",
        "colab_type": "code",
        "colab": {}
      },
      "source": [
        "import os\n",
        "op=[]\n",
        "f = open(\"/content/drive/My Drive/CSE545_Project/MOP/merged.txt\", \"w\")\n",
        "for i in os.listdir('/content/drive/My Drive/CSE545_Project/OP'):\n",
        "    for j in os.listdir('/content/drive/My Drive/CSE545_Project/OP/'+str(i)):\n",
        "      if '.' not in j:\n",
        "        for k in open('/content/drive/My Drive/CSE545_Project/OP/'+str(i)+'/'+str(j)):\n",
        "          f.write(k)\n",
        "\n"
      ],
      "execution_count": 0,
      "outputs": []
    },
    {
      "cell_type": "code",
      "metadata": {
        "id": "cZhpj_s8C-8K",
        "colab_type": "code",
        "colab": {}
      },
      "source": [
        "miprdd=sc.textFile('/content/drive/My Drive/CSE545_Project/MOP/merged.txt')"
      ],
      "execution_count": 0,
      "outputs": []
    },
    {
      "cell_type": "code",
      "metadata": {
        "id": "Nv-J6QW9jYtU",
        "colab_type": "code",
        "colab": {}
      },
      "source": [
        "from google.colab import drive\n",
        "drive.mount('/content/drive')"
      ],
      "execution_count": 0,
      "outputs": []
    },
    {
      "cell_type": "code",
      "metadata": {
        "id": "DEH2eHWuGhr3",
        "colab_type": "code",
        "colab": {}
      },
      "source": [
        "lendict={1:4,2:2,3:1,4:1,5:1,6:1,7:2,8:1,9:1}\n",
        "def filterfunc(x):\n",
        "  op=True\n",
        "  try:\n",
        "    for i in x[1]:\n",
        "      if lendict[i[0]]!=len(i[1]):\n",
        "        op=False\n",
        "  except:\n",
        "    op=False\n",
        "  return op\n",
        "  \n",
        "oplen=9\n",
        "def appenderfunc(x):\n",
        "  op=[[]for i in range(oplen)]\n",
        "  Yval=[]\n",
        "  for i in x[1]:\n",
        "    if i[0]==100:\n",
        "      Yval=i[1]\n",
        "    else:\n",
        "      op[i[0]-1]=i[1] if isinstance(i[1],list) else [i[1]]\n",
        "    \n",
        "\n",
        "  flat_list = []\n",
        "  for sublist in op:\n",
        "      for elem in sublist:\n",
        "          flat_list.append(elem)\n",
        "  return (int(x[0]),(flat_list,Yval))\n",
        "\n",
        "def remFunc(x):\n",
        "  try: \n",
        "    k=int(x[0])\n",
        "    return True\n",
        "  except:\n",
        "    return False"
      ],
      "execution_count": 0,
      "outputs": []
    },
    {
      "cell_type": "code",
      "metadata": {
        "id": "0RWXb7OfE3pr",
        "colab_type": "code",
        "colab": {}
      },
      "source": [
        "mrdd1=miprdd.map(lambda x: eval(x)).filter(lambda x: remFunc(x)).map(lambda x: (int(x[0]),[x[1]])).reduceByKey(lambda a,b:a+b)"
      ],
      "execution_count": 0,
      "outputs": []
    },
    {
      "cell_type": "code",
      "metadata": {
        "id": "SJkqyeBoIOXk",
        "colab_type": "code",
        "colab": {}
      },
      "source": [
        "mrdd2=mrdd1.map(lambda x: appenderfunc(x)).filter(lambda x: len(x[1][0])==14 and len(x[1][1])==1)"
      ],
      "execution_count": 0,
      "outputs": []
    },
    {
      "cell_type": "code",
      "metadata": {
        "id": "QG6bToyGNIt5",
        "colab_type": "code",
        "colab": {}
      },
      "source": [
        "def floatConvTest(X):\n",
        "  try:\n",
        "    for i in range(len(X[1][0])):\n",
        "      X[1][0][i]=float(X[1][0][i])\n",
        "    for i in range(len(X[1][1])):\n",
        "      X[1][1][i]=float(X[1][1][i])\n",
        "    return True\n",
        "  except:\n",
        "    return False\n",
        "\n",
        "def floatConv(X):\n",
        "  for i in range(len(X[1][0])):\n",
        "    X[1][0][i]=float(X[1][0][i])\n",
        "  for i in range(len(X[1][1])):\n",
        "    X[1][1][i]=float(X[1][1][i])\n",
        "    return (X[0],X[1])\n",
        "\n"
      ],
      "execution_count": 0,
      "outputs": []
    },
    {
      "cell_type": "code",
      "metadata": {
        "id": "d6pgJH0pM8Ft",
        "colab_type": "code",
        "colab": {}
      },
      "source": [
        "mrdd3=mrdd2.filter(lambda x: floatConvTest(x)).map(lambda x: floatConv(x))"
      ],
      "execution_count": 0,
      "outputs": []
    },
    {
      "cell_type": "code",
      "metadata": {
        "id": "SgZgORAu-imU",
        "colab_type": "code",
        "colab": {}
      },
      "source": [
        "broaddict=mrdd3.collect()\n",
        "broadcastdict={}\n",
        "for i in broaddict:\n",
        "  broadcastdict[i[0]]=i[1]"
      ],
      "execution_count": 0,
      "outputs": []
    },
    {
      "cell_type": "code",
      "metadata": {
        "id": "97mu3HeUBE6W",
        "colab_type": "code",
        "colab": {}
      },
      "source": [
        "broad_map=sc.broadcast(broadcastdict)"
      ],
      "execution_count": 0,
      "outputs": []
    },
    {
      "cell_type": "code",
      "metadata": {
        "id": "Pm0eaTvJImex",
        "colab_type": "code",
        "colab": {}
      },
      "source": [
        "xy_vals=mrdd3.map(lambda x:(1,[x[1]])).reduceByKey(lambda a,b: a+b).collect()"
      ],
      "execution_count": 0,
      "outputs": []
    },
    {
      "cell_type": "code",
      "metadata": {
        "id": "cCjxRM5aKkD0",
        "colab_type": "code",
        "colab": {}
      },
      "source": [
        "X=[]\n",
        "Y=[]\n",
        "for xy in xy_vals[0][1]:\n",
        "  X.append(xy[0])\n",
        "  Y.append(xy[1])"
      ],
      "execution_count": 0,
      "outputs": []
    },
    {
      "cell_type": "code",
      "metadata": {
        "id": "EY_K1DkpLL_p",
        "colab_type": "code",
        "colab": {}
      },
      "source": [
        "import numpy as np\n",
        "\n",
        "X_n=np.asarray(X,np.float32)\n",
        "Y_n=np.asarray(Y,np.float32)\n",
        "\n",
        "#added\n",
        "mean_dict_x={}\n",
        "std_dict_x={}\n",
        "x_mean_list = []\n",
        "x_std_list = []\n",
        "#added ends\n",
        "\n",
        "ymean=np.mean(Y_n)\n",
        "ystd=np.std(Y_n)\n",
        "Y_n=(Y_n-ymean)/ystd\n",
        "\n",
        "Xtrans=X_n.transpose()\n",
        "for j in range(len(Xtrans)):\n",
        "  xmean=np.mean(Xtrans[j])\n",
        "  mean_dict_x[j]=xmean\n",
        "  xstd=np.std(Xtrans[j])\n",
        "  std_dict_x[j]=xstd\n",
        "  Xtrans[j]=(Xtrans[j]-xmean)/xstd\n",
        "X_n=Xtrans.transpose()\n",
        "\n",
        "X_trans=X_n.transpose()\n",
        "sq=X_trans.dot(X_n)\n",
        "\n",
        "beta=(np.linalg.inv(sq)).dot(X_trans.dot(Y_n))\n",
        "\n",
        "mean_broadcast=sc.broadcast(mean_dict_x)\n",
        "std_broadcast=sc.broadcast(std_dict_x)\n",
        "y_broadcast_factor=sc.broadcast((ymean,ystd))"
      ],
      "execution_count": 0,
      "outputs": []
    },
    {
      "cell_type": "code",
      "metadata": {
        "id": "S_i44d3aDlZj",
        "colab_type": "code",
        "colab": {}
      },
      "source": [
        "def simFind(key,x_n,y,num):\n",
        "  x=x_n+y\n",
        "  ref_x_n=broad_map.value[num][0]\n",
        "  ref_y_n=broad_map.value[num][1]\n",
        "  ref_x=ref_x_n+ref_y_n\n",
        "  xsq=0\n",
        "  ref_xsq=0\n",
        "  op=0\n",
        "  for i in range(len(ref_x)):\n",
        "    ref_xsq+=ref_x[i]**2\n",
        "    xsq+=x[i]**2\n",
        "    op+=ref_x[i]*x[i]\n",
        "  return (key,op/(ref_xsq*xsq))\n",
        "\n"
      ],
      "execution_count": 0,
      "outputs": []
    },
    {
      "cell_type": "code",
      "metadata": {
        "id": "yigtZIrnCdgR",
        "colab_type": "code",
        "colab": {}
      },
      "source": [
        "# GET TOP 20 SIMILAR COUNTY'S with reference to FIPS code 36103(Suffolk county)\n",
        "sim_list=mrdd3.map(lambda x: simFind(x[0],x[1][0],x[1][1],6071)).collect()"
      ],
      "execution_count": 0,
      "outputs": []
    },
    {
      "cell_type": "code",
      "metadata": {
        "id": "yldp26E4HpKk",
        "colab_type": "code",
        "colab": {}
      },
      "source": [
        "sorted_sim_list=sorted(sim_list,key=(lambda x: x[1]),reverse=True)"
      ],
      "execution_count": 0,
      "outputs": []
    },
    {
      "cell_type": "code",
      "metadata": {
        "id": "xQRMaBxiJS-r",
        "colab_type": "code",
        "outputId": "60beda1c-e712-43e0-acb7-29a5a479e20f",
        "colab": {
          "base_uri": "https://localhost:8080/",
          "height": 381
        }
      },
      "source": [
        "sorted_sim_list[:20]"
      ],
      "execution_count": 0,
      "outputs": [
        {
          "output_type": "execute_result",
          "data": {
            "text/plain": [
              "[(1005, 6.072201935727749e-12),\n",
              " (1119, 6.024952129321313e-12),\n",
              " (5123, 5.993215703313667e-12),\n",
              " (5107, 5.99134912669114e-12),\n",
              " (1087, 5.967032274110777e-12),\n",
              " (1093, 5.889068650345702e-12),\n",
              " (1109, 5.888310703888595e-12),\n",
              " (1053, 5.8317911126981844e-12),\n",
              " (5005, 5.783701355421822e-12),\n",
              " (1131, 5.675507300290871e-12),\n",
              " (4023, 5.659967341419728e-12),\n",
              " (1059, 5.6451690118855725e-12),\n",
              " (1061, 5.632212629879488e-12),\n",
              " (1039, 5.55374877412518e-12),\n",
              " (1017, 5.531125256463546e-12),\n",
              " (5071, 5.472896335424373e-12),\n",
              " (5103, 5.368607953963509e-12),\n",
              " (5111, 5.359706804318036e-12),\n",
              " (1123, 5.28779672051156e-12),\n",
              " (1071, 5.2349288525481795e-12)]"
            ]
          },
          "metadata": {
            "tags": []
          },
          "execution_count": 25
        }
      ]
    },
    {
      "cell_type": "code",
      "metadata": {
        "id": "YBEonV3OJ_qa",
        "colab_type": "code",
        "colab": {}
      },
      "source": [
        "def findData(record,targetFips):\n",
        "  if record[0]==targetFips:\n",
        "    return True\n",
        "  return False\n",
        "targetFips = 36107\n",
        "targetRdd = mrdd3.filter(lambda x:findData(x,targetFips))"
      ],
      "execution_count": 0,
      "outputs": []
    },
    {
      "cell_type": "code",
      "metadata": {
        "id": "oNnmyN84VWIe",
        "colab_type": "code",
        "outputId": "aa39b927-8ddd-40f5-b846-9073b17f5ba7",
        "colab": {
          "base_uri": "https://localhost:8080/",
          "height": 290
        }
      },
      "source": [
        "targetRdd.collect()[0][1]"
      ],
      "execution_count": 0,
      "outputs": [
        {
          "output_type": "execute_result",
          "data": {
            "text/plain": [
              "([9.2,\n",
              "  36.1,\n",
              "  29.2,\n",
              "  25.5,\n",
              "  4.1,\n",
              "  60309.0,\n",
              "  48203.0,\n",
              "  0.0,\n",
              "  63.0,\n",
              "  414.9119349418086,\n",
              "  9.7,\n",
              "  2.7423352026,\n",
              "  19.537902318218396,\n",
              "  22280.77090637512],\n",
              " [10.2])"
            ]
          },
          "metadata": {
            "tags": []
          },
          "execution_count": 103
        }
      ]
    },
    {
      "cell_type": "code",
      "metadata": {
        "id": "rBBsKhGNOF-y",
        "colab_type": "code",
        "colab": {}
      },
      "source": [
        "x_values = np.asarray(targetRdd.collect()[0][1][0],np.float32)\n",
        "#increase schools in county by 10\n",
        "tot_schools=(x_values[6]/1000000)*x_values[9]\n",
        "x_normalize=[]\n",
        "\n",
        "for i in range(len(x_values)):\n",
        "  k=(x_values[i]-mean_broadcast.value[i])/std_broadcast.value[i]\n",
        "  x_normalize.append(k)\n",
        "\n",
        "x_normalize=np.asarray(x_normalize,np.float32)\n",
        "y_value = x_normalize.dot(np.asarray(beta))\n",
        "\n",
        "x_values[9]=((tot_schools+30)/x_values[6])*1000000\n",
        "x_values[1]+=6\n",
        "x_normalize=[]\n",
        "\n",
        "for i in range(len(x_values)):\n",
        "  k=(x_values[i]-mean_broadcast.value[i])/std_broadcast.value[i]\n",
        "  x_normalize.append(k)\n",
        "\n",
        "x_normalize=np.asarray(x_normalize,np.float32)\n",
        "y_value_new = x_normalize.dot(np.asarray(beta))\n",
        "\n"
      ],
      "execution_count": 0,
      "outputs": []
    },
    {
      "cell_type": "code",
      "metadata": {
        "id": "-jw8nrIBcJct",
        "colab_type": "code",
        "colab": {}
      },
      "source": [
        "#change in poverty\n",
        "y_value_new-y_value"
      ],
      "execution_count": 0,
      "outputs": []
    },
    {
      "cell_type": "code",
      "metadata": {
        "id": "-HVynSnSYyuu",
        "colab_type": "code",
        "colab": {}
      },
      "source": [
        "([9.2,\n",
        "  36.1,\n",
        "  29.2,\n",
        "  25.5,\n",
        "  4.1,\n",
        "  60309.0,\n",
        "  48203.0,\n",
        "  0.0,\n",
        "  63.0,\n",
        "  414.9119349418086,\n",
        "  9.7,\n",
        "  2.7423352026,\n",
        "  19.537902318218396,\n",
        "  22280.77090637512],\n",
        " [10.2])\n",
        "\n",
        "([15.8,\n",
        "  37.8,\n",
        "  24.6,\n",
        "  21.8,\n",
        "  4.5,\n",
        "  27859.0,\n",
        "  12427.0,\n",
        "  80.46994447573832,\n",
        "  21.0,\n",
        "  563.2896113301682,\n",
        "  27.7,\n",
        "  10.372885631,\n",
        "  3.718717152042135,\n",
        "  9167.28105234566],\n",
        " [34.7])\n",
        "\n"
      ],
      "execution_count": 0,
      "outputs": []
    },
    {
      "cell_type": "code",
      "metadata": {
        "id": "glV67pPUhJD5",
        "colab_type": "code",
        "colab": {}
      },
      "source": [
        "https://drive.google.com/open?id=1qqMyZgPgQ5k_NT4KmIdSR64swfFrjdJT"
      ],
      "execution_count": 0,
      "outputs": []
    }
  ]
}